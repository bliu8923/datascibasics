{
 "cells": [
  {
   "cell_type": "markdown",
   "metadata": {},
   "source": [
    "# NYPD Allegations\n",
    "* **See the main project notebook for instructions to be sure you satisfy the rubric!**\n",
    "* See Project 03 for information on the dataset.\n",
    "* A few example prediction questions to pursue are listed below. However, don't limit yourself to them!\n",
    "    * Predict the outcome of an allegation (might need to feature engineer your output column).\n",
    "    * Predict the complainant or officer ethnicity.\n",
    "    * Predict the amount of time between the month received vs month closed (difference of the two columns).\n",
    "    * Predict the rank of the officer.\n",
    "\n",
    "Be careful to justify what information you would know at the \"time of prediction\" and train your model using only those features."
   ]
  },
  {
   "cell_type": "markdown",
   "metadata": {},
   "source": [
    "# Summary of Findings\n",
    "\n",
    "\n",
    "### Introduction\n",
    "Is it possible to predict the current rank of the officer in the complaint based on other information about the allegation? This would be a classification problem, so we ended up using the .score() method of the DecisionTreeClassifier as our evaluation metric.\n",
    "\n",
    "### Baseline Model\n",
    "For the baseline model, we decided to do basic one-hot encoding for the categorical features, and just allowed quantitative columns to remain the same (scaling them seemed to diminish our accuracy by a small margin).\n",
    "\n",
    "#### Nominal Features\n",
    "Nominal features were the unique_mos_id(unique IDs for each officer), command_now, command_at_incident, mos_gender, mos_ethnicity, complainant_gender, complainant_ethnicity, board_disposition, allegation, and fado_type. We also wanted to clarify that for the baseline model, we included rank_at_incident as a nominal feature since we first believed that rank was another name for a job classification (i.e. a detective and an officer were just different jobs with different needs, not one above the other). We also cannot consider it as an ordinal feature since our prediction is being made on rank_now, which is supposedly ordinal but as a classification problem we cannot predict ordinal and must stick with these features being nominal. It would be counter intuitive to manipulate the y values of our model.\n",
    "\n",
    "#### Quantitative Features\n",
    "Quantitative features were the rest of the features, mainly ages of both the officer and complainant.\n",
    "\n",
    "In total, we used 10 nominal features and 3 quantitative features for a grand total of 13 features.\n",
    "\n",
    "#### Model Performance\n",
    "After training a model multiple times, we noticed that scores of our training data would average around 0.72-0.73 with a tree depth of 10, while scores with our test data would average 0.70-0.72, meaning that overall this was a pretty good model to begin with. There were a lot of features that we were excited to add on, however, given that there is still a pretty good room for improvement from this model. If these 13 features can allow for 70% of our predictions to be correct (considering that there is a pretty good spread of the types of ranks possible in the dataset), I would say that this model is pretty good given it's a baseline.\n",
    "\n",
    "### Final Model\n",
    "For the final model, we added a couple features that we thought would improve our chances of classifying the current rank of officers:\n",
    "#### Previous Number of Allegations\n",
    "An officer that gets a lot of allegations against them might be less likely to get a promotion since they are constantly caught up in other issues instead of performing well to get promoted. Additionally, an officer who is constantly being reported is likely doing something wrong. By using the unique_mos_id of each officer, we were able to replace that value with the number of allegations the officer had in the entire dataset.\n",
    "#### Change in Command\n",
    "An officer that changes precincts might also be more likely to get such a promotion, since changing precincts indicates instability in their previous environment that makes it difficult for promotion. Alternatively, an officer may be transferred to a precinct because there are disturbances taking place. This may present the officer with more opportunities for promotion in the new location. Of course, either of these could work against the officer and lead them to getting fewer promotions. There may also be an interpersonal element. Officers may work better around different people. It might also work the other way, in the case that an officer who does not work well with anyone would be transferred to a large number of precincts without a promotion at all. In any case, we believe this parameter to be relevant to the promotions an officer receives.\n",
    "#### Race Binarizer\n",
    "In society today and in the past, white people have had the structural and infrastructural advantage. By binarizing the officers into white and non-white people, we aimed to further accentuate the difference in treatment that they received. For example, we expect white officers to receive more promotions than non-white officers. We aimed to make it easier for the model to recognize this difference to give better accuracy to both populations.\n",
    "#### Age Bins\n",
    "We added this because we expect for age to correlate with promotion. The binning was done because we do not expect officers of minute age differences to receive vastly different treatments regarding promotions for good reason. By this, we mean that if 25 year olds receive a disproportionately high number of promotions compared to  24 or 26 year olds, we believe this to be the result of an outlier or a unique and rare case that happened to take place for those officers. We can limit the impact of such occurrences by binning the data, so that the burst of promotions is spread out among more officers. In the case that no such cases occur, minimal information should be lost anyway, since we are binning among frequent age groups. This way, the model will more easily develop a prediction of how age influences promotions in general.\n",
    " \n",
    "#### Model Type\n",
    "For our final model we chose to use a tree-model with max_depth=None, min_samples_leaf=2, min_samples_split=2. Through trial and error of classification models, we found that these parameters combined with the features we added gave us the best prediction values for our data.\n",
    "\n",
    "### Fairness Evaluation\n",
    "For our fairness evaluation, we looked at the officer's ethnicity (White vs POC) to see if there was any disparity between the model's predictions of rank between the two groups. As mentioned in our explanation of our binning feature, we found it important to ensure that the model was accurate for both white people and non-white people. As such, we used an accuracy parity in our permutation test.\n",
    "#### Null Hypothesis\n",
    "The model is equally accurate for both white officers and POC officers.\n",
    "    \n",
    "#### Alternate Hypothesis\n",
    "The model is more accurate for white officers compared to POC officers.\n",
    "\n",
    "#### Conclusion\n",
    "We used a significance value of α=0.05 for our test. After our test, we got a value of 0.015 which is well within the ranges of our histogram so we fail to reject the null hypothesis and accept that the model has parity between the accuracy of predicting promotions for white vs POC officers.\n",
    "\n",
    "### Appendix\n",
    "After extensive testing, we found that our values that come from the permutation test can vary by quite a large margin (even with values up to 0.4!). We determined that there was a possibility of white officers taking up a larger proportion of the training data in these instances during the train_test_split, which could account for the wide variety of our permutation test values (and therefore rejecting the null and accepting the alt). Due to this large difference in parity values, we will keep our conclusion the same but include this warning that there is a possibility for splits in the training data that will create large gaps of parity."
   ]
  },
  {
   "cell_type": "markdown",
   "metadata": {},
   "source": [
    "# Code"
   ]
  },
  {
   "cell_type": "code",
   "execution_count": 1,
   "metadata": {
    "pycharm": {
     "name": "#%%\n"
    }
   },
   "outputs": [],
   "source": [
    "import matplotlib.pyplot as plt\n",
    "import numpy as np\n",
    "import os\n",
    "import pandas as pd\n",
    "import seaborn as sns\n",
    "from sklearn import metrics\n",
    "%matplotlib inline\n",
    "%config InlineBackend.figure_format = 'retina'  # Higher resolution figures"
   ]
  },
  {
   "cell_type": "code",
   "execution_count": 2,
   "metadata": {},
   "outputs": [
    {
     "data": {
      "text/plain": [
       "Police Officer            0.308712\n",
       "Detective                 0.297290\n",
       "Sergeant                  0.232358\n",
       "Lieutenant                0.110798\n",
       "Captain                   0.022034\n",
       "Deputy Inspector          0.013040\n",
       "Chiefs and other ranks    0.009353\n",
       "Inspector                 0.006415\n",
       "Name: rank_now, dtype: float64"
      ]
     },
     "execution_count": 2,
     "metadata": {},
     "output_type": "execute_result"
    }
   ],
   "source": [
    "fp = os.path.join('data', 'allegations_202007271729.csv')\n",
    "data = pd.read_csv(fp)\n",
    "data['rank_now'].value_counts()/len(data)"
   ]
  },
  {
   "cell_type": "markdown",
   "metadata": {},
   "source": [
    "### Baseline Model"
   ]
  },
  {
   "cell_type": "code",
   "execution_count": 3,
   "metadata": {
    "pycharm": {
     "name": "#%%\n"
    }
   },
   "outputs": [],
   "source": [
    "#Clean the Data\n",
    "base_data = data[[\n",
    "    'unique_mos_id',\n",
    "    'command_now',\n",
    "    'command_at_incident',\n",
    "    'rank_now',\n",
    "    'rank_incident',\n",
    "    'mos_gender',\n",
    "    'mos_ethnicity',\n",
    "    'mos_age_incident',\n",
    "    'complainant_ethnicity',\n",
    "    'complainant_age_incident',\n",
    "    'complainant_gender',\n",
    "    'board_disposition',\n",
    "    'allegation',\n",
    "    'fado_type'\n",
    "]].dropna(how='any')"
   ]
  },
  {
   "cell_type": "code",
   "execution_count": 4,
   "metadata": {
    "pycharm": {
     "name": "#%%\n"
    }
   },
   "outputs": [
    {
     "name": "stdout",
     "output_type": "stream",
     "text": [
      "0.7298192486041449\n",
      "0.7139815471965933\n"
     ]
    }
   ],
   "source": [
    "from sklearn.preprocessing import OneHotEncoder\n",
    "from sklearn.pipeline import Pipeline\n",
    "from sklearn.compose import ColumnTransformer\n",
    "from sklearn.svm import SVC\n",
    "from sklearn.model_selection import train_test_split\n",
    "from sklearn.tree import DecisionTreeClassifier\n",
    "from sklearn.neural_network import MLPClassifier\n",
    "#Seperate categorical and quantitiative columns, then one hot encode\n",
    "X = base_data.drop('rank_now', axis=1).reset_index()\n",
    "y = base_data['rank_now']\n",
    "types = X.dtypes\n",
    "cat_cols = types.loc[types == object].index\n",
    "quant_cols = types.loc[types != object].index\n",
    "cat_process = ('cat_processing', Pipeline([\n",
    "    ('one-hot', OneHotEncoder(handle_unknown='ignore'))\n",
    "]),\n",
    "               cat_cols\n",
    "               )\n",
    "ct = ColumnTransformer([cat_process], remainder='passthrough')\n",
    "pl = Pipeline([('features', ct), ('classifier', DecisionTreeClassifier(max_depth=10))])\n",
    "Xtrain, Xtest, ytrain, ytest = train_test_split(X,y)\n",
    "pl.fit(Xtrain,ytrain)\n",
    "print(pl.score(Xtrain, ytrain))\n",
    "print(pl.score(Xtest, ytest))\n"
   ]
  },
  {
   "cell_type": "code",
   "execution_count": null,
   "metadata": {
    "pycharm": {
     "name": "#%%\n"
    }
   },
   "outputs": [],
   "source": []
  },
  {
   "cell_type": "markdown",
   "metadata": {},
   "source": [
    "### Final Model"
   ]
  },
  {
   "cell_type": "code",
   "execution_count": 10,
   "metadata": {
    "pycharm": {
     "name": "#%%\n"
    }
   },
   "outputs": [
    {
     "data": {
      "text/html": [
       "<div>\n",
       "<style scoped>\n",
       "    .dataframe tbody tr th:only-of-type {\n",
       "        vertical-align: middle;\n",
       "    }\n",
       "\n",
       "    .dataframe tbody tr th {\n",
       "        vertical-align: top;\n",
       "    }\n",
       "\n",
       "    .dataframe thead th {\n",
       "        text-align: right;\n",
       "    }\n",
       "</style>\n",
       "<table border=\"1\" class=\"dataframe\">\n",
       "  <thead>\n",
       "    <tr style=\"text-align: right;\">\n",
       "      <th></th>\n",
       "      <th>unique_mos_id</th>\n",
       "      <th>command_now</th>\n",
       "      <th>command_at_incident</th>\n",
       "      <th>rank_now</th>\n",
       "      <th>rank_incident</th>\n",
       "      <th>mos_gender</th>\n",
       "      <th>mos_ethnicity</th>\n",
       "      <th>mos_age_incident</th>\n",
       "      <th>complainant_ethnicity</th>\n",
       "      <th>complainant_age_incident</th>\n",
       "      <th>complainant_gender</th>\n",
       "      <th>board_disposition</th>\n",
       "      <th>allegation</th>\n",
       "      <th>fado_type</th>\n",
       "    </tr>\n",
       "  </thead>\n",
       "  <tbody>\n",
       "    <tr>\n",
       "      <th>0</th>\n",
       "      <td>10004</td>\n",
       "      <td>078 PCT</td>\n",
       "      <td>078 PCT</td>\n",
       "      <td>Police Officer</td>\n",
       "      <td>Police Officer</td>\n",
       "      <td>M</td>\n",
       "      <td>Hispanic</td>\n",
       "      <td>32</td>\n",
       "      <td>Black</td>\n",
       "      <td>38.0</td>\n",
       "      <td>Female</td>\n",
       "      <td>Substantiated (Command Lvl Instructions)</td>\n",
       "      <td>Failure to provide RTKA card</td>\n",
       "      <td>Abuse of Authority</td>\n",
       "    </tr>\n",
       "    <tr>\n",
       "      <th>1</th>\n",
       "      <td>10007</td>\n",
       "      <td>078 PCT</td>\n",
       "      <td>PBBS</td>\n",
       "      <td>Police Officer</td>\n",
       "      <td>Police Officer</td>\n",
       "      <td>M</td>\n",
       "      <td>White</td>\n",
       "      <td>24</td>\n",
       "      <td>Black</td>\n",
       "      <td>26.0</td>\n",
       "      <td>Male</td>\n",
       "      <td>Substantiated (Charges)</td>\n",
       "      <td>Action</td>\n",
       "      <td>Discourtesy</td>\n",
       "    </tr>\n",
       "    <tr>\n",
       "      <th>2</th>\n",
       "      <td>10007</td>\n",
       "      <td>078 PCT</td>\n",
       "      <td>PBBS</td>\n",
       "      <td>Police Officer</td>\n",
       "      <td>Police Officer</td>\n",
       "      <td>M</td>\n",
       "      <td>White</td>\n",
       "      <td>24</td>\n",
       "      <td>Black</td>\n",
       "      <td>26.0</td>\n",
       "      <td>Male</td>\n",
       "      <td>Substantiated (Charges)</td>\n",
       "      <td>Race</td>\n",
       "      <td>Offensive Language</td>\n",
       "    </tr>\n",
       "    <tr>\n",
       "      <th>3</th>\n",
       "      <td>10007</td>\n",
       "      <td>078 PCT</td>\n",
       "      <td>PBBS</td>\n",
       "      <td>Police Officer</td>\n",
       "      <td>Police Officer</td>\n",
       "      <td>M</td>\n",
       "      <td>White</td>\n",
       "      <td>25</td>\n",
       "      <td>Black</td>\n",
       "      <td>45.0</td>\n",
       "      <td>Male</td>\n",
       "      <td>Substantiated (Charges)</td>\n",
       "      <td>Question</td>\n",
       "      <td>Abuse of Authority</td>\n",
       "    </tr>\n",
       "    <tr>\n",
       "      <th>5</th>\n",
       "      <td>10012</td>\n",
       "      <td>078 PCT</td>\n",
       "      <td>078 PCT</td>\n",
       "      <td>Sergeant</td>\n",
       "      <td>Sergeant</td>\n",
       "      <td>F</td>\n",
       "      <td>Black</td>\n",
       "      <td>50</td>\n",
       "      <td>White</td>\n",
       "      <td>31.0</td>\n",
       "      <td>Male</td>\n",
       "      <td>Substantiated (Command Lvl Instructions)</td>\n",
       "      <td>Refusal to process civilian complaint</td>\n",
       "      <td>Abuse of Authority</td>\n",
       "    </tr>\n",
       "    <tr>\n",
       "      <th>...</th>\n",
       "      <td>...</td>\n",
       "      <td>...</td>\n",
       "      <td>...</td>\n",
       "      <td>...</td>\n",
       "      <td>...</td>\n",
       "      <td>...</td>\n",
       "      <td>...</td>\n",
       "      <td>...</td>\n",
       "      <td>...</td>\n",
       "      <td>...</td>\n",
       "      <td>...</td>\n",
       "      <td>...</td>\n",
       "      <td>...</td>\n",
       "      <td>...</td>\n",
       "    </tr>\n",
       "    <tr>\n",
       "      <th>33353</th>\n",
       "      <td>9992</td>\n",
       "      <td>078 PCT</td>\n",
       "      <td>066 PCT</td>\n",
       "      <td>Sergeant</td>\n",
       "      <td>Police Officer</td>\n",
       "      <td>M</td>\n",
       "      <td>White</td>\n",
       "      <td>36</td>\n",
       "      <td>Asian</td>\n",
       "      <td>21.0</td>\n",
       "      <td>Male</td>\n",
       "      <td>Unsubstantiated</td>\n",
       "      <td>Word</td>\n",
       "      <td>Discourtesy</td>\n",
       "    </tr>\n",
       "    <tr>\n",
       "      <th>33354</th>\n",
       "      <td>9992</td>\n",
       "      <td>078 PCT</td>\n",
       "      <td>066 PCT</td>\n",
       "      <td>Sergeant</td>\n",
       "      <td>Police Officer</td>\n",
       "      <td>M</td>\n",
       "      <td>White</td>\n",
       "      <td>36</td>\n",
       "      <td>Asian</td>\n",
       "      <td>21.0</td>\n",
       "      <td>Male</td>\n",
       "      <td>Unsubstantiated</td>\n",
       "      <td>Interference with recording</td>\n",
       "      <td>Abuse of Authority</td>\n",
       "    </tr>\n",
       "    <tr>\n",
       "      <th>33355</th>\n",
       "      <td>9992</td>\n",
       "      <td>078 PCT</td>\n",
       "      <td>066 PCT</td>\n",
       "      <td>Sergeant</td>\n",
       "      <td>Police Officer</td>\n",
       "      <td>M</td>\n",
       "      <td>White</td>\n",
       "      <td>36</td>\n",
       "      <td>Asian</td>\n",
       "      <td>21.0</td>\n",
       "      <td>Male</td>\n",
       "      <td>Substantiated (Formalized Training)</td>\n",
       "      <td>Search (of person)</td>\n",
       "      <td>Abuse of Authority</td>\n",
       "    </tr>\n",
       "    <tr>\n",
       "      <th>33356</th>\n",
       "      <td>9992</td>\n",
       "      <td>078 PCT</td>\n",
       "      <td>066 PCT</td>\n",
       "      <td>Sergeant</td>\n",
       "      <td>Police Officer</td>\n",
       "      <td>M</td>\n",
       "      <td>White</td>\n",
       "      <td>36</td>\n",
       "      <td>Asian</td>\n",
       "      <td>21.0</td>\n",
       "      <td>Male</td>\n",
       "      <td>Substantiated (Formalized Training)</td>\n",
       "      <td>Vehicle search</td>\n",
       "      <td>Abuse of Authority</td>\n",
       "    </tr>\n",
       "    <tr>\n",
       "      <th>33357</th>\n",
       "      <td>9992</td>\n",
       "      <td>078 PCT</td>\n",
       "      <td>066 PCT</td>\n",
       "      <td>Sergeant</td>\n",
       "      <td>Police Officer</td>\n",
       "      <td>M</td>\n",
       "      <td>White</td>\n",
       "      <td>36</td>\n",
       "      <td>Asian</td>\n",
       "      <td>21.0</td>\n",
       "      <td>Male</td>\n",
       "      <td>Substantiated (Formalized Training)</td>\n",
       "      <td>Frisk</td>\n",
       "      <td>Abuse of Authority</td>\n",
       "    </tr>\n",
       "  </tbody>\n",
       "</table>\n",
       "<p>28179 rows × 14 columns</p>\n",
       "</div>"
      ],
      "text/plain": [
       "       unique_mos_id command_now command_at_incident        rank_now  \\\n",
       "0              10004     078 PCT             078 PCT  Police Officer   \n",
       "1              10007     078 PCT                PBBS  Police Officer   \n",
       "2              10007     078 PCT                PBBS  Police Officer   \n",
       "3              10007     078 PCT                PBBS  Police Officer   \n",
       "5              10012     078 PCT             078 PCT        Sergeant   \n",
       "...              ...         ...                 ...             ...   \n",
       "33353           9992     078 PCT             066 PCT        Sergeant   \n",
       "33354           9992     078 PCT             066 PCT        Sergeant   \n",
       "33355           9992     078 PCT             066 PCT        Sergeant   \n",
       "33356           9992     078 PCT             066 PCT        Sergeant   \n",
       "33357           9992     078 PCT             066 PCT        Sergeant   \n",
       "\n",
       "        rank_incident mos_gender mos_ethnicity  mos_age_incident  \\\n",
       "0      Police Officer          M      Hispanic                32   \n",
       "1      Police Officer          M         White                24   \n",
       "2      Police Officer          M         White                24   \n",
       "3      Police Officer          M         White                25   \n",
       "5            Sergeant          F         Black                50   \n",
       "...               ...        ...           ...               ...   \n",
       "33353  Police Officer          M         White                36   \n",
       "33354  Police Officer          M         White                36   \n",
       "33355  Police Officer          M         White                36   \n",
       "33356  Police Officer          M         White                36   \n",
       "33357  Police Officer          M         White                36   \n",
       "\n",
       "      complainant_ethnicity  complainant_age_incident complainant_gender  \\\n",
       "0                     Black                      38.0             Female   \n",
       "1                     Black                      26.0               Male   \n",
       "2                     Black                      26.0               Male   \n",
       "3                     Black                      45.0               Male   \n",
       "5                     White                      31.0               Male   \n",
       "...                     ...                       ...                ...   \n",
       "33353                 Asian                      21.0               Male   \n",
       "33354                 Asian                      21.0               Male   \n",
       "33355                 Asian                      21.0               Male   \n",
       "33356                 Asian                      21.0               Male   \n",
       "33357                 Asian                      21.0               Male   \n",
       "\n",
       "                              board_disposition  \\\n",
       "0      Substantiated (Command Lvl Instructions)   \n",
       "1                       Substantiated (Charges)   \n",
       "2                       Substantiated (Charges)   \n",
       "3                       Substantiated (Charges)   \n",
       "5      Substantiated (Command Lvl Instructions)   \n",
       "...                                         ...   \n",
       "33353                           Unsubstantiated   \n",
       "33354                           Unsubstantiated   \n",
       "33355       Substantiated (Formalized Training)   \n",
       "33356       Substantiated (Formalized Training)   \n",
       "33357       Substantiated (Formalized Training)   \n",
       "\n",
       "                                  allegation           fado_type  \n",
       "0               Failure to provide RTKA card  Abuse of Authority  \n",
       "1                                     Action         Discourtesy  \n",
       "2                                       Race  Offensive Language  \n",
       "3                                   Question  Abuse of Authority  \n",
       "5      Refusal to process civilian complaint  Abuse of Authority  \n",
       "...                                      ...                 ...  \n",
       "33353                                   Word         Discourtesy  \n",
       "33354            Interference with recording  Abuse of Authority  \n",
       "33355                     Search (of person)  Abuse of Authority  \n",
       "33356                         Vehicle search  Abuse of Authority  \n",
       "33357                                  Frisk  Abuse of Authority  \n",
       "\n",
       "[28179 rows x 14 columns]"
      ]
     },
     "execution_count": 10,
     "metadata": {},
     "output_type": "execute_result"
    }
   ],
   "source": [
    "#Clean the Data\n",
    "final_data = data[['unique_mos_id', 'command_now', 'command_at_incident', 'rank_now', 'rank_incident', 'mos_gender', 'mos_ethnicity', 'mos_age_incident', 'complainant_ethnicity', 'complainant_age_incident', 'complainant_gender', 'board_disposition', 'allegation', 'fado_type']].dropna(how='any')\n",
    "final_data"
   ]
  },
  {
   "cell_type": "code",
   "execution_count": 11,
   "metadata": {
    "pycharm": {
     "name": "#%%\n"
    }
   },
   "outputs": [],
   "source": [
    "from sklearn.base import BaseEstimator, TransformerMixin\n",
    "\n",
    "class AllegationNum(BaseEstimator, TransformerMixin):\n",
    "\n",
    "    def __init__(self):\n",
    "        self.grps_ = {}\n",
    "\n",
    "    def fit(self, X, y=None):\n",
    "        for x in X.unique_mos_id.unique():\n",
    "            self.grps_[x] = len(X[(X.loc[:,'unique_mos_id'] == x)])\n",
    "        return self\n",
    "\n",
    "    def transform(self, X, y=None):\n",
    "\n",
    "        try:\n",
    "            getattr(self, \"grps_\")\n",
    "        except AttributeError:\n",
    "            raise RuntimeError(\"You must fit the transformer before tranforming the data!\")\n",
    "\n",
    "        # X may not be a dataframe (e.g. np.array)\n",
    "        df = X\n",
    "        df.loc[:,'unique_mos_id'] = df.loc[:,'unique_mos_id'].replace(self.grps_)\n",
    "        return df\n"
   ]
  },
  {
   "cell_type": "code",
   "execution_count": 111,
   "metadata": {},
   "outputs": [
    {
     "name": "stdout",
     "output_type": "stream",
     "text": [
      "0.9441657991861455\n",
      "0.9067423704755145\n"
     ]
    }
   ],
   "source": [
    "import warnings\n",
    "warnings.filterwarnings('ignore')\n",
    "from sklearn.preprocessing import OneHotEncoder\n",
    "from sklearn.pipeline import Pipeline\n",
    "from sklearn.compose import ColumnTransformer\n",
    "from sklearn.svm import SVC\n",
    "from sklearn.model_selection import train_test_split\n",
    "from sklearn.preprocessing import FunctionTransformer\n",
    "from sklearn.preprocessing import StandardScaler\n",
    "from sklearn.impute import SimpleImputer\n",
    "\n",
    "\n",
    "def rank_check(X):\n",
    "    return pd.DataFrame(X.iloc[:,0] == X.iloc[:,1])\n",
    "def racehelper(x):\n",
    "    #print(type(x))\n",
    "    series= x.apply(lambda c: 1 if c==\"White\" else 0)\n",
    "    return series.to_frame(name=\"complainant_ethnicity\")\n",
    "def binhelper(x):\n",
    "    return pd.DataFrame(pd.cut(x, bins=5, labels=False))\n",
    "\n",
    "#Seperate categorical and quantitiative columns, then one hot encode\n",
    "X = final_data.drop('rank_now', axis=1).reset_index()\n",
    "y = final_data['rank_now']\n",
    "rank = FunctionTransformer(rank_check)\n",
    "agebin=FunctionTransformer(binhelper)\n",
    "racebinary=FunctionTransformer(racehelper)\n",
    "types = X.dtypes\n",
    "cat_cols = types.loc[types == object].index\n",
    "quant_cols = types.loc[types != object].index\n",
    "cat_process = ('cat_processing', Pipeline([('one-hot', OneHotEncoder(handle_unknown='ignore'))]),cat_cols)\n",
    "quan_process = ('qua_processing', Pipeline([('scaler', StandardScaler())]), quant_cols)\n",
    "cat_process2 = (\"yep\", Pipeline([(\"race\",racebinary)]),\"complainant_ethnicity\")\n",
    "cat_process3 = (\"yep2\", Pipeline([(\"race\",agebin)]),\"complainant_age_incident\")\n",
    "ct = ColumnTransformer([cat_process2, cat_process3, cat_process, quan_process], remainder='passthrough')\n",
    "pl = Pipeline([('allegations', AllegationNum()), ('features', ct), ('classifier', DecisionTreeClassifier(min_samples_leaf=2, min_samples_split=2))])\n",
    "Xtrain, Xtest, ytrain, ytest = train_test_split(X,y)\n",
    "pl.fit(Xtrain,ytrain)\n",
    "print(pl.score(Xtrain, ytrain))\n",
    "print(pl.score(Xtest, ytest))\n"
   ]
  },
  {
   "cell_type": "code",
   "execution_count": 109,
   "metadata": {
    "collapsed": false,
    "jupyter": {
     "outputs_hidden": false
    },
    "pycharm": {
     "name": "#%%\n"
    }
   },
   "outputs": [
    {
     "data": {
      "text/plain": [
       "GridSearchCV(estimator=DecisionTreeClassifier(),\n",
       "             param_grid={'max_depth': [2, 5, 10, 15, 18, None],\n",
       "                         'min_samples_leaf': [2, 5, 10, 15, 20],\n",
       "                         'min_samples_split': [2, 5, 10, 15, 20]})"
      ]
     },
     "execution_count": 109,
     "metadata": {},
     "output_type": "execute_result"
    }
   ],
   "source": [
    "from sklearn.model_selection import GridSearchCV\n",
    "Xtrain, Xtest, ytrain, ytest = train_test_split(X,y)\n",
    "pl.fit(Xtrain,ytrain)\n",
    "parameters = {\n",
    "    'max_depth':[2,5,10,15,18,None],\n",
    "    'min_samples_split':[2,5,10,15,20],\n",
    "    'min_samples_leaf':[2,5,10,15,20]\n",
    "}\n",
    "clf = GridSearchCV(DecisionTreeClassifier(), parameters)\n",
    "Xtrain = pl.named_steps['features'].transform(Xtrain)\n",
    "clf.fit(Xtrain, ytrain)\n",
    "clf"
   ]
  },
  {
   "cell_type": "code",
   "execution_count": 110,
   "metadata": {
    "collapsed": false,
    "jupyter": {
     "outputs_hidden": false
    },
    "pycharm": {
     "name": "#%%\n"
    }
   },
   "outputs": [
    {
     "data": {
      "text/plain": [
       "{'max_depth': None, 'min_samples_leaf': 2, 'min_samples_split': 2}"
      ]
     },
     "execution_count": 110,
     "metadata": {},
     "output_type": "execute_result"
    }
   ],
   "source": [
    "clf.best_params_"
   ]
  },
  {
   "cell_type": "markdown",
   "metadata": {},
   "source": [
    "### Fairness Evaluation"
   ]
  },
  {
   "cell_type": "code",
   "execution_count": 13,
   "metadata": {},
   "outputs": [],
   "source": [
    "white_data=base_data[base_data[\"mos_ethnicity\"]==\"White\"]\n",
    "poc_data=base_data[base_data[\"mos_ethnicity\"]!=\"White\"]"
   ]
  },
  {
   "cell_type": "code",
   "execution_count": 98,
   "metadata": {},
   "outputs": [
    {
     "name": "stdout",
     "output_type": "stream",
     "text": [
      "0.015\n"
     ]
    },
    {
     "data": {
      "text/plain": [
       "<AxesSubplot:title={'center':'Perm Test'}, ylabel='Frequency'>"
      ]
     },
     "execution_count": 98,
     "metadata": {},
     "output_type": "execute_result"
    },
    {
     "data": {
      "image/png": "[encoded data removed]",
      "text/plain": [
       "<Figure size 432x288 with 1 Axes>"
      ]
     },
     "metadata": {
      "image/png": {
       "height": 263,
       "width": 388
      },
      "needs_background": "light"
     },
     "output_type": "display_data"
    }
   ],
   "source": [
    "X = final_data.drop('rank_now', axis=1)\n",
    "y = final_data['rank_now']\n",
    "\n",
    "rank = FunctionTransformer(rank_check)\n",
    "agebin=FunctionTransformer(binhelper)\n",
    "racebinary=FunctionTransformer(racehelper)\n",
    "types = X.dtypes\n",
    "cat_cols = types.loc[types == object].index\n",
    "quant_cols = types.loc[types != object].index\n",
    "cat_process = ('cat_processing', Pipeline([('one-hot', OneHotEncoder(handle_unknown='ignore'))]),cat_cols)\n",
    "quan_process = ('qua_processing', Pipeline([('scaler', StandardScaler())]), quant_cols)\n",
    "comm_process = ('comm', Pipeline([('comm_check', rank)]), [\"command_at_incident\", \"command_now\"])\n",
    "cat_process2 = (\"yep\", Pipeline([(\"race\",racebinary)]),\"complainant_ethnicity\")\n",
    "cat_process3 = (\"yep2\", Pipeline([(\"race\",agebin)]),\"complainant_age_incident\")\n",
    "ct = ColumnTransformer([comm_process, cat_process2, cat_process3, cat_process, quan_process], remainder='passthrough')\n",
    "pl = Pipeline([('allegations', AllegationNum()), ('features', ct), ('classifier', DecisionTreeClassifier(max_depth=10))])\n",
    "#pl = Pipeline([('features', ct), ('classifier', DecisionTreeClassifier(max_depth=10))])\n",
    "Xtrain, Xtest, ytrain, ytest = train_test_split(X,y)\n",
    "pl.fit(Xtrain,ytrain)\n",
    "preds = pl.predict(Xtest)\n",
    "results = Xtest\n",
    "results['prediction'] = preds\n",
    "results['rank_now'] = ytest\n",
    "results['is_white'] = (results.mos_ethnicity == 'White').replace({True:'White', False:\"POC\"})\n",
    "obs = results.groupby('is_white').apply(lambda x: metrics.accuracy_score(x.rank_now, x.prediction)).diff().iloc[-1]\n",
    "stats = []\n",
    "for _ in range(1000):\n",
    "    s = (\n",
    "        results[['is_white', 'prediction', 'rank_now']]\n",
    "        .assign(is_white=results.is_white.sample(frac=1.0, replace=False).reset_index(drop=True))\n",
    "        .groupby('is_white')\n",
    "        .apply(lambda x: metrics.accuracy_score(x.rank_now, x.prediction))\n",
    "        .diff()\n",
    "        .iloc[-1]\n",
    "    )\n",
    "    stats.append(s)\n",
    "\n",
    "print(pd.Series(stats <= obs).mean())\n",
    "pd.Series(stats).plot(kind='hist', title='Perm Test')\n"
   ]
  }
 ],
 "metadata": {
  "kernelspec": {
   "display_name": "Python 3",
   "language": "python",
   "name": "python3"
  },
  "language_info": {
   "codemirror_mode": {
    "name": "ipython",
    "version": 3
   },
   "file_extension": ".py",
   "mimetype": "text/x-python",
   "name": "python",
   "nbconvert_exporter": "python",
   "pygments_lexer": "ipython3",
   "version": "3.9.5"
  }
 },
 "nbformat": 4,
 "nbformat_minor": 4
}
